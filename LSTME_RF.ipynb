{
  "nbformat": 4,
  "nbformat_minor": 0,
  "metadata": {
    "colab": {
      "name": "LSTME.ipynb",
      "version": "0.3.2",
      "provenance": [],
      "collapsed_sections": [],
      "include_colab_link": true
    },
    "kernelspec": {
      "name": "python3",
      "display_name": "Python 3"
    },
    "accelerator": "GPU"
  },
  "cells": [
    {
      "cell_type": "markdown",
      "metadata": {
        "id": "view-in-github",
        "colab_type": "text"
      },
      "source": [
        "<a href=\"https://colab.research.google.com/github/LuisErnestoColchado/EnvironmentalPollution/blob/master/LSTME_RF.ipynb\" target=\"_parent\"><img src=\"https://colab.research.google.com/assets/colab-badge.svg\" alt=\"Open In Colab\"/></a>"
      ]
    },
    {
      "metadata": {
        "id": "X_fv7ZwdSBNJ",
        "colab_type": "code",
        "colab": {}
      },
      "cell_type": "code",
      "source": [
        "import numpy as np \n",
        "import pandas as pd\n",
        "from tqdm import tqdm\n",
        "import matplotlib.pyplot as plt\n",
        "#import tensorflow as tf\n",
        "from sklearn.preprocessing import MinMaxScaler\n",
        "from sklearn.preprocessing import LabelEncoder"
      ],
      "execution_count": 0,
      "outputs": []
    },
    {
      "metadata": {
        "id": "xjSILtBEu1gC",
        "colab_type": "code",
        "outputId": "308a81ca-c7e7-469f-f781-15742d5e0c79",
        "colab": {
          "base_uri": "https://localhost:8080/",
          "height": 189
        }
      },
      "cell_type": "code",
      "source": [
        "from google.colab import drive\n",
        "drive.mount('/content/drive', force_remount=True)"
      ],
      "execution_count": 2,
      "outputs": [
        {
          "output_type": "stream",
          "text": [
            "Go to this URL in a browser: https://accounts.google.com/o/oauth2/auth?client_id=947318989803-6bn6qk8qdgf4n4g3pfee6491hc0brc4i.apps.googleusercontent.com&redirect_uri=urn%3Aietf%3Awg%3Aoauth%3A2.0%3Aoob&scope=email%20https%3A%2F%2Fwww.googleapis.com%2Fauth%2Fdocs.test%20https%3A%2F%2Fwww.googleapis.com%2Fauth%2Fdrive%20https%3A%2F%2Fwww.googleapis.com%2Fauth%2Fdrive.photos.readonly%20https%3A%2F%2Fwww.googleapis.com%2Fauth%2Fpeopleapi.readonly&response_type=code\n",
            "\n",
            "Enter your authorization code:\n",
            "··········\n",
            "Mounted at /content/drive\n"
          ],
          "name": "stdout"
        }
      ]
    },
    {
      "metadata": {
        "id": "u-joRih0yjGb",
        "colab_type": "code",
        "outputId": "e0161223-0154-4bd1-9cd1-dceab2c97e01",
        "colab": {
          "base_uri": "https://localhost:8080/",
          "height": 34
        }
      },
      "cell_type": "code",
      "source": [
        "import tensorflow as tf\n",
        "device_name = tf.test.gpu_device_name()\n",
        "if device_name != '/device:GPU:0':\n",
        "  raise SystemError('GPU device not found')\n",
        "print('Found GPU at: {}'.format(device_name))"
      ],
      "execution_count": 3,
      "outputs": [
        {
          "output_type": "stream",
          "text": [
            "Found GPU at: /device:GPU:0\n"
          ],
          "name": "stdout"
        }
      ]
    },
    {
      "metadata": {
        "id": "_qgadWmUwDd5",
        "colab_type": "code",
        "colab": {}
      },
      "cell_type": "code",
      "source": [
        "df = pd.read_csv(\"/content/drive/My Drive/masterTesis/code/data/BeijingPM20100101_20151231.csv\")\n",
        "df = df[np.isfinite(df['PM_US Post'])]"
      ],
      "execution_count": 0,
      "outputs": []
    },
    {
      "metadata": {
        "id": "riYCbKpQyB47",
        "colab_type": "code",
        "colab": {}
      },
      "cell_type": "code",
      "source": [
        "data = df.iloc[:,[1,2,3,4,9,11,13,15]].values"
      ],
      "execution_count": 0,
      "outputs": []
    },
    {
      "metadata": {
        "id": "4BVctvAbfTT6",
        "colab_type": "code",
        "colab": {
          "base_uri": "https://localhost:8080/",
          "height": 136
        },
        "outputId": "a909eda8-80c5-4b48-eb0d-8223e7687721"
      },
      "cell_type": "code",
      "source": [
        "print(data)"
      ],
      "execution_count": 6,
      "outputs": [
        {
          "output_type": "stream",
          "text": [
            "[[ 2.010e+03  1.000e+00  1.000e+00 ...  4.100e+01 -5.000e+00  8.900e-01]\n",
            " [ 2.010e+03  1.000e+00  2.000e+00 ...  3.800e+01 -4.000e+00  1.790e+00]\n",
            " [ 2.010e+03  1.000e+00  2.000e+00 ...  4.200e+01 -4.000e+00  2.680e+00]\n",
            " ...\n",
            " [ 2.015e+03  1.200e+01  3.100e+01 ...  7.300e+01 -6.000e+00  8.900e-01]\n",
            " [ 2.015e+03  1.200e+01  3.100e+01 ...  7.300e+01 -6.000e+00  1.780e+00]\n",
            " [ 2.015e+03  1.200e+01  3.100e+01 ...  7.900e+01 -6.000e+00  2.670e+00]]\n"
          ],
          "name": "stdout"
        }
      ]
    },
    {
      "metadata": {
        "id": "1BC3dZfWqfR4",
        "colab_type": "code",
        "colab": {
          "base_uri": "https://localhost:8080/",
          "height": 34
        },
        "outputId": "177a66eb-844a-47cc-c837-a931decaa31f"
      },
      "cell_type": "code",
      "source": [
        "print(data.shape)"
      ],
      "execution_count": 7,
      "outputs": [
        {
          "output_type": "stream",
          "text": [
            "(50387, 8)\n"
          ],
          "name": "stdout"
        }
      ]
    },
    {
      "metadata": {
        "id": "hMlmCQWsyB7S",
        "colab_type": "code",
        "colab": {}
      },
      "cell_type": "code",
      "source": [
        "#GET METEOROLOGICAL DATA \n",
        "meteorological = data[:,[6,7,5]]"
      ],
      "execution_count": 0,
      "outputs": []
    },
    {
      "metadata": {
        "id": "TllqSCgGfXjx",
        "colab_type": "code",
        "outputId": "0f606d7b-6a48-4639-ee4d-fd17082c719c",
        "colab": {
          "base_uri": "https://localhost:8080/",
          "height": 136
        }
      },
      "cell_type": "code",
      "source": [
        "print(meteorological)"
      ],
      "execution_count": 9,
      "outputs": [
        {
          "output_type": "stream",
          "text": [
            "[[-5.    0.89 41.  ]\n",
            " [-4.    1.79 38.  ]\n",
            " [-4.    2.68 42.  ]\n",
            " ...\n",
            " [-6.    0.89 73.  ]\n",
            " [-6.    1.78 73.  ]\n",
            " [-6.    2.67 79.  ]]\n"
          ],
          "name": "stdout"
        }
      ]
    },
    {
      "metadata": {
        "id": "tDRcbtXtyB9T",
        "colab_type": "code",
        "colab": {}
      },
      "cell_type": "code",
      "source": [
        "scaler = MinMaxScaler(feature_range=(0, 1))\n",
        "scaledMeteorological = scaler.fit_transform(meteorological)"
      ],
      "execution_count": 0,
      "outputs": []
    },
    {
      "metadata": {
        "id": "KKp6I5-cyB_T",
        "colab_type": "code",
        "colab": {}
      },
      "cell_type": "code",
      "source": [
        "#GET CATEGORICAL DATA\n",
        "categorical_month = data[:,1].astype(int)\n",
        "categorical_hour = data[:,3].astype(int)"
      ],
      "execution_count": 0,
      "outputs": []
    },
    {
      "metadata": {
        "id": "Hc_G1fu6yCBb",
        "colab_type": "code",
        "colab": {}
      },
      "cell_type": "code",
      "source": [
        "#ENCODE CATEGORICAL DATA TO ONE-HOT\n",
        "months = 12\n",
        "hours = 24\n",
        "onehot_month = np.zeros((len(data), months))\n",
        "onehot_hours = np.zeros((len(data),hours))\n",
        "onehot_month[np.arange(len(data)),categorical_month-1] = 1.0\n",
        "onehot_hours[np.arange(len(data)),categorical_hour] = 1.0"
      ],
      "execution_count": 0,
      "outputs": []
    },
    {
      "metadata": {
        "id": "fo2SnEgOyCDa",
        "colab_type": "code",
        "colab": {}
      },
      "cell_type": "code",
      "source": [
        "auxData = np.concatenate((scaledMeteorological,onehot_month,onehot_hours),axis=1) "
      ],
      "execution_count": 0,
      "outputs": []
    },
    {
      "metadata": {
        "id": "XoDQOBRkfdDA",
        "colab_type": "code",
        "outputId": "c6c3159b-6808-48f1-ad56-8a782ea51410",
        "colab": {
          "base_uri": "https://localhost:8080/",
          "height": 238
        }
      },
      "cell_type": "code",
      "source": [
        "print(auxData)"
      ],
      "execution_count": 14,
      "outputs": [
        {
          "output_type": "stream",
          "text": [
            "[[2.29508197e-01 7.86796130e-04 3.97959184e-01 ... 0.00000000e+00\n",
            "  0.00000000e+00 1.00000000e+00]\n",
            " [2.45901639e-01 2.39615185e-03 3.67346939e-01 ... 0.00000000e+00\n",
            "  0.00000000e+00 0.00000000e+00]\n",
            " [2.45901639e-01 3.98762584e-03 4.08163265e-01 ... 0.00000000e+00\n",
            "  0.00000000e+00 0.00000000e+00]\n",
            " ...\n",
            " [2.13114754e-01 7.86796130e-04 7.24489796e-01 ... 1.00000000e+00\n",
            "  0.00000000e+00 0.00000000e+00]\n",
            " [2.13114754e-01 2.37827012e-03 7.24489796e-01 ... 0.00000000e+00\n",
            "  1.00000000e+00 0.00000000e+00]\n",
            " [2.13114754e-01 3.96974411e-03 7.85714286e-01 ... 0.00000000e+00\n",
            "  0.00000000e+00 1.00000000e+00]]\n"
          ],
          "name": "stdout"
        }
      ]
    },
    {
      "metadata": {
        "id": "K9Lc67SoyCGq",
        "colab_type": "code",
        "colab": {}
      },
      "cell_type": "code",
      "source": [
        "#PM2.5\n",
        "pm25 = data[:,4]\n",
        "pm25 = np.nan_to_num(pm25)\n",
        "pm25 = np.reshape(pm25,(len(data),1))"
      ],
      "execution_count": 0,
      "outputs": []
    },
    {
      "metadata": {
        "id": "Ns-0Dj6Cfgdw",
        "colab_type": "code",
        "outputId": "4b6d208d-46cc-45dc-93de-6b7009bc46d5",
        "colab": {
          "base_uri": "https://localhost:8080/",
          "height": 136
        }
      },
      "cell_type": "code",
      "source": [
        "print(pm25)"
      ],
      "execution_count": 16,
      "outputs": [
        {
          "output_type": "stream",
          "text": [
            "[[129.]\n",
            " [148.]\n",
            " [159.]\n",
            " ...\n",
            " [203.]\n",
            " [212.]\n",
            " [235.]]\n"
          ],
          "name": "stdout"
        }
      ]
    },
    {
      "metadata": {
        "id": "0FJQMHseyLQC",
        "colab_type": "code",
        "colab": {}
      },
      "cell_type": "code",
      "source": [
        "scaledPm25 = scaler.fit_transform(pm25)"
      ],
      "execution_count": 0,
      "outputs": []
    },
    {
      "metadata": {
        "id": "nB1A110RfmAi",
        "colab_type": "code",
        "outputId": "0a285bb6-44f9-4294-a66f-e573efe8adab",
        "colab": {
          "base_uri": "https://localhost:8080/",
          "height": 136
        }
      },
      "cell_type": "code",
      "source": [
        "print(scaledPm25)"
      ],
      "execution_count": 18,
      "outputs": [
        {
          "output_type": "stream",
          "text": [
            "[[0.12890232]\n",
            " [0.14803625]\n",
            " [0.1591138 ]\n",
            " ...\n",
            " [0.20342397]\n",
            " [0.21248741]\n",
            " [0.23564955]]\n"
          ],
          "name": "stdout"
        }
      ]
    },
    {
      "metadata": {
        "id": "SzzXPUzQyLSK",
        "colab_type": "code",
        "colab": {}
      },
      "cell_type": "code",
      "source": [
        "historicalData =  np.zeros((len(data),8))\n",
        "historicalLabel = np.zeros((len(data),1))\n",
        "row = 0\n",
        "col = 0\n",
        "for i in range (0,len(data)):\n",
        "    j = 8\n",
        "    col = 0\n",
        "    while(i > 8 and j > 0):\n",
        "        historicalData[row,col] = scaledPm25[i-j]\n",
        "        col += 1\n",
        "        j -= 1\n",
        "    historicalLabel[row,0] = scaledPm25[i]\n",
        "    row+= 1"
      ],
      "execution_count": 0,
      "outputs": []
    },
    {
      "metadata": {
        "id": "HMRJyYsafzNv",
        "colab_type": "code",
        "outputId": "4ca0642f-c559-4ed8-e7a1-34a230ef80f9",
        "colab": {
          "base_uri": "https://localhost:8080/",
          "height": 136
        }
      },
      "cell_type": "code",
      "source": [
        "print(historicalData)"
      ],
      "execution_count": 20,
      "outputs": [
        {
          "output_type": "stream",
          "text": [
            "[[0.         0.         0.         ... 0.         0.         0.        ]\n",
            " [0.         0.         0.         ... 0.         0.         0.        ]\n",
            " [0.         0.         0.         ... 0.         0.         0.        ]\n",
            " ...\n",
            " [0.04229607 0.04733132 0.05740181 ... 0.11379658 0.13293051 0.16918429]\n",
            " [0.04733132 0.05740181 0.06847936 ... 0.13293051 0.16918429 0.20342397]\n",
            " [0.05740181 0.06847936 0.09063444 ... 0.16918429 0.20342397 0.21248741]]\n"
          ],
          "name": "stdout"
        }
      ]
    },
    {
      "metadata": {
        "id": "Ww8Cc8CjyLUb",
        "colab_type": "code",
        "colab": {}
      },
      "cell_type": "code",
      "source": [
        "fullData = np.concatenate((historicalData,auxData,historicalLabel),axis=1)"
      ],
      "execution_count": 0,
      "outputs": []
    },
    {
      "metadata": {
        "id": "0UqKfTa_kyPZ",
        "colab_type": "code",
        "outputId": "0ab8c0da-82bb-4b71-98d9-68c04df5dfd7",
        "colab": {
          "base_uri": "https://localhost:8080/",
          "height": 255
        }
      },
      "cell_type": "code",
      "source": [
        "print(fullData)\n",
        "fulldata = fullData[0:50000,:]\n",
        "print(fullData)"
      ],
      "execution_count": 22,
      "outputs": [
        {
          "output_type": "stream",
          "text": [
            "[[0.         0.         0.         ... 0.         1.         0.12890232]\n",
            " [0.         0.         0.         ... 0.         0.         0.14803625]\n",
            " [0.         0.         0.         ... 0.         0.         0.1591138 ]\n",
            " ...\n",
            " [0.04229607 0.04733132 0.05740181 ... 0.         0.         0.20342397]\n",
            " [0.04733132 0.05740181 0.06847936 ... 1.         0.         0.21248741]\n",
            " [0.05740181 0.06847936 0.09063444 ... 0.         1.         0.23564955]]\n",
            "[[0.         0.         0.         ... 0.         1.         0.12890232]\n",
            " [0.         0.         0.         ... 0.         0.         0.14803625]\n",
            " [0.         0.         0.         ... 0.         0.         0.1591138 ]\n",
            " ...\n",
            " [0.04229607 0.04733132 0.05740181 ... 0.         0.         0.20342397]\n",
            " [0.04733132 0.05740181 0.06847936 ... 1.         0.         0.21248741]\n",
            " [0.05740181 0.06847936 0.09063444 ... 0.         1.         0.23564955]]\n"
          ],
          "name": "stdout"
        }
      ]
    },
    {
      "metadata": {
        "id": "B2TWaaRaKFBP",
        "colab_type": "code",
        "colab": {}
      },
      "cell_type": "code",
      "source": [
        "np.savetxt(\"/content/drive/My Drive/masterTesis/code/data/data.csv\", fullData, delimiter=\",\")"
      ],
      "execution_count": 0,
      "outputs": []
    },
    {
      "metadata": {
        "id": "YTBdv8mTpxLh",
        "colab_type": "code",
        "outputId": "6f7564be-ab24-46e0-b51b-be32d421380f",
        "colab": {
          "base_uri": "https://localhost:8080/",
          "height": 34
        }
      },
      "cell_type": "code",
      "source": [
        "print(fulldata.shape)"
      ],
      "execution_count": 24,
      "outputs": [
        {
          "output_type": "stream",
          "text": [
            "(50000, 48)\n"
          ],
          "name": "stdout"
        }
      ]
    },
    {
      "metadata": {
        "id": "sL3b1nfzpOnu",
        "colab_type": "code",
        "outputId": "c822ab3d-09ca-4762-b232-4391b9f53273",
        "colab": {
          "base_uri": "https://localhost:8080/",
          "height": 153
        }
      },
      "cell_type": "code",
      "source": [
        "print(fulldata[50,:])"
      ],
      "execution_count": 25,
      "outputs": [
        {
          "output_type": "stream",
          "text": [
            "[0.06042296 0.05236657 0.07049345 0.0715005  0.0755287  0.07250755\n",
            " 0.07854985 0.05740181 0.16393443 0.03835631 0.55102041 1.\n",
            " 0.         0.         0.         0.         0.         0.\n",
            " 0.         0.         0.         0.         0.         0.\n",
            " 1.         0.         0.         0.         0.         0.\n",
            " 0.         0.         0.         0.         0.         0.\n",
            " 0.         0.         0.         0.         0.         0.\n",
            " 0.         0.         0.         0.         0.         0.02416918]\n"
          ],
          "name": "stdout"
        }
      ]
    },
    {
      "metadata": {
        "id": "lEUoD3gmX6t5",
        "colab_type": "code",
        "colab": {}
      },
      "cell_type": "code",
      "source": [
        "from sklearn.metrics import mean_squared_error\n",
        "from math import sqrt\n",
        "from sklearn.model_selection import KFold\n",
        "from sklearn.ensemble import RandomForestRegressor"
      ],
      "execution_count": 0,
      "outputs": []
    },
    {
      "metadata": {
        "id": "cWo-iDi7KaD8",
        "colab_type": "code",
        "outputId": "2ba67981-4bf3-4320-ca5a-a9901820f784",
        "colab": {
          "base_uri": "https://localhost:8080/",
          "height": 182
        }
      },
      "cell_type": "code",
      "source": [
        "!pip install keras==2.2.4"
      ],
      "execution_count": 27,
      "outputs": [
        {
          "output_type": "stream",
          "text": [
            "Requirement already satisfied: keras==2.2.4 in /usr/local/lib/python3.6/dist-packages (2.2.4)\n",
            "Requirement already satisfied: pyyaml in /usr/local/lib/python3.6/dist-packages (from keras==2.2.4) (3.13)\n",
            "Requirement already satisfied: keras-preprocessing>=1.0.5 in /usr/local/lib/python3.6/dist-packages (from keras==2.2.4) (1.0.9)\n",
            "Requirement already satisfied: keras-applications>=1.0.6 in /usr/local/lib/python3.6/dist-packages (from keras==2.2.4) (1.0.7)\n",
            "Requirement already satisfied: six>=1.9.0 in /usr/local/lib/python3.6/dist-packages (from keras==2.2.4) (1.12.0)\n",
            "Requirement already satisfied: scipy>=0.14 in /usr/local/lib/python3.6/dist-packages (from keras==2.2.4) (1.2.1)\n",
            "Requirement already satisfied: h5py in /usr/local/lib/python3.6/dist-packages (from keras==2.2.4) (2.8.0)\n",
            "Requirement already satisfied: numpy>=1.9.1 in /usr/local/lib/python3.6/dist-packages (from keras==2.2.4) (1.16.3)\n"
          ],
          "name": "stdout"
        }
      ]
    },
    {
      "metadata": {
        "id": "KMKR70VVgN86",
        "colab_type": "code",
        "outputId": "ed31b071-493b-4b0b-8b11-075990bc6e05",
        "colab": {
          "base_uri": "https://localhost:8080/",
          "height": 34
        }
      },
      "cell_type": "code",
      "source": [
        "from keras.models import Model, Sequential\n",
        "from keras.layers import Dense, Input, concatenate, Dropout\n",
        "from keras.layers import LSTM\n",
        "from keras.layers.core import Reshape"
      ],
      "execution_count": 28,
      "outputs": [
        {
          "output_type": "stream",
          "text": [
            "Using TensorFlow backend.\n"
          ],
          "name": "stderr"
        }
      ]
    },
    {
      "metadata": {
        "id": "Dr2eOo24jOEc",
        "colab_type": "code",
        "colab": {}
      },
      "cell_type": "code",
      "source": [
        "def lstme(xtrain,ytrain,auxdata):\n",
        "  inputs = Input((1,xtrain.shape[1]))\n",
        "\n",
        "  \n",
        "  #~inputs = Embedding(output_dim=xtrain.shape[0], input_dim=10000, input_length=100)(main_input)\n",
        "  \n",
        "  lstm1 = LSTM(50,input_shape=(1,xtrain.shape[1]),return_sequences=True)\n",
        "  lstmPm25 = lstm1(inputs)\n",
        "  lstm2 = LSTM(50,return_sequences=True)(lstmPm25)\n",
        "  lstmPm25 = Dense(1,activation='sigmoid')(lstm2)\n",
        "  lstmModel1 = Model(inputs, lstmPm25)\n",
        "  \n",
        "  aux = Input((1,auxdata.shape[1]))\n",
        "  #lstm2 = LSTM(50,input_shape=(1,auxdata.shape[1]), return_sequences=True)\n",
        "  #lstmMeteo = lstm2(aux)\n",
        "  #lstmMeteo = Dense(2000)(aux)\n",
        "  #lstmMeteo = Dense(2000)(lstmMeteo)\n",
        "  lstmMeteo = Dense(39,activation='sigmoid')(aux)\n",
        "  lstmModel2 = Model(aux, lstmMeteo)\n",
        "  \n",
        "  combined = concatenate([lstmModel1.output, lstmModel2.output],axis=2)\n",
        "  fc1 = Dense(50)(combined)\n",
        "  fc2 = Dense(1, activation=\"sigmoid\")(fc1)\n",
        "  fcModel = Model(inputs=[lstmModel1.input, lstmModel2.input],outputs=fc2)\n",
        "  return fcModel\n",
        "\n",
        "def lstm(xtrain,ytrain,auxdata):\n",
        "  inputs = Input((1,xtrain.shape[1]))\n",
        "  \n",
        "  #~inputs = Embedding(output_dim=xtrain.shape[0], input_dim=10000, input_length=100)(main_input)\n",
        "  \n",
        "  lstm1 = LSTM(600,input_shape=(1,xtrain.shape[1]),return_sequences=True)\n",
        "  lstmPm25 = lstm1(inputs)\n",
        "  lstm2 = LSTM(600,return_sequences=True)(lstmPm25)\n",
        "  lstmPm25 = Dense(1,activation='sigmoid')(lstm2)\n",
        "  lstmModel1 = Model(inputs, lstmPm25)\n",
        "\n",
        "  return lstmModel1\n",
        "\n",
        "def lstmed(xtrain,ytrain,auxdata):\n",
        "  encoder_inputs = Input(shape=(1,xtrain.shape[1]))\n",
        "  encoder = LSTM(36, return_state=True)\n",
        "  encoder_outputs, state_h, state_c = encoder(encoder_inputs)\n",
        "  encoder_outputs, state_h, state_c = encoder(encoder_inputs)\n",
        "  encoder_outputs = Dense(1, activation='sigmoid')(encoder_outputs)\n",
        "  #encoder_outputs = tf.keras.backend.mean(encoder_outputs,axis=1)\n",
        "  encoder_states = [state_h, state_c]\n",
        "  \n",
        "  decoder_inputs = Dense(36)(encoder_outputs)\n",
        "  decoder_inputs = Reshape((1,36))(decoder_inputs)\n",
        "  \n",
        "  decoder_lstm = LSTM(36, return_sequences=True, return_state=True)\n",
        "  decoder_outputs, _, _ = decoder_lstm(decoder_inputs, initial_state=encoder_states)\n",
        "  decoder_outputs, _, _ = decoder_lstm(decoder_inputs, initial_state=encoder_states)\n",
        "  decoder_dense = Dense(1, activation='sigmoid')\n",
        "  decoder_outputs = decoder_dense(decoder_outputs)\n",
        "  \n",
        "  model = Model(encoder_inputs, decoder_outputs)\n",
        "  return model \n",
        "\n",
        "def randomForest(xtrain,ytrain,xtest):\n",
        "  regressor = RandomForestRegressor(n_estimators=100, random_state=0)  \n",
        "  regressor.fit(xtrain, ytrain)  \n",
        "  y_pred = regressor.predict(xtest)  \n",
        "  return y_pred"
      ],
      "execution_count": 0,
      "outputs": []
    },
    {
      "metadata": {
        "id": "hgVIQQs48K9i",
        "colab_type": "code",
        "colab": {
          "base_uri": "https://localhost:8080/",
          "height": 5662
        },
        "outputId": "00bafcf1-0361-439c-d493-0c7fa106db95"
      },
      "cell_type": "code",
      "source": [
        "kFolds = KFold(n_splits=5)\n",
        "countCross = 1 \n",
        "for train, test in kFolds.split(fulldata):\n",
        "    xTrain = fulldata[train,0:8]\n",
        "    xTest= fulldata[test,0:8]\n",
        "    auxTrain = fulldata[train,8:47]\n",
        "    auxTest = fulldata[test,8:47] \n",
        "    yTrain = fulldata[train,47:48]\n",
        "    yTest = fulldata[test,47:48]\n",
        "    print(auxTrain.shape)\n",
        "    print(\"------------- CROSS VALIDATION \",countCross,\"---------\")\n",
        "    print(\"**********LTSME***********\")\n",
        "    model = lstme(xTrain,yTrain,auxTrain)\n",
        "    print(model.summary())\n",
        "    model.compile(loss='mae', optimizer='adam') \n",
        "    xTrain = np.reshape(xTrain,(xTrain.shape[0],1,xTrain.shape[1]))\n",
        "    auxTrain = np.reshape(auxTrain,(auxTrain.shape[0],1,auxTrain.shape[1]))\n",
        "    yTrain = np.reshape(yTrain,(yTrain.shape[0],1,yTrain.shape[1]))\n",
        "    \n",
        "    model.fit([xTrain,auxTrain], yTrain, epochs=100, batch_size=1000)\n",
        "    \n",
        "    xTest = np.reshape(xTest,(xTest.shape[0],1,xTest.shape[1]))\n",
        "    auxTest = np.reshape(auxTest,(auxTest.shape[0],1,auxTest.shape[1]))\n",
        "    \n",
        "    yhat = model.predict([xTest,auxTest])\n",
        "    \n",
        "    yhat = np.reshape(yhat,(xTest.shape[0],xTest.shape[1]))\n",
        "    predictTest = scaler.inverse_transform(yhat)\n",
        "    yTestI = scaler.inverse_transform(yTest)\n",
        "    rmseTest = sqrt(mean_squared_error(yTestI, predictTest))\n",
        "    print(\"RMSE \", rmseTest)\n",
        "    countCross+=1"
      ],
      "execution_count": 34,
      "outputs": [
        {
          "output_type": "stream",
          "text": [
            "(40000, 39)\n",
            "------------- CROSS VALIDATION  1 ---------\n",
            "**********LTSME***********\n",
            "__________________________________________________________________________________________________\n",
            "Layer (type)                    Output Shape         Param #     Connected to                     \n",
            "==================================================================================================\n",
            "input_15 (InputLayer)           (None, 1, 8)         0                                            \n",
            "__________________________________________________________________________________________________\n",
            "lstm_15 (LSTM)                  (None, 1, 50)        11800       input_15[0][0]                   \n",
            "__________________________________________________________________________________________________\n",
            "lstm_16 (LSTM)                  (None, 1, 50)        20200       lstm_15[0][0]                    \n",
            "__________________________________________________________________________________________________\n",
            "input_16 (InputLayer)           (None, 1, 39)        0                                            \n",
            "__________________________________________________________________________________________________\n",
            "dense_29 (Dense)                (None, 1, 1)         51          lstm_16[0][0]                    \n",
            "__________________________________________________________________________________________________\n",
            "dense_30 (Dense)                (None, 1, 39)        1560        input_16[0][0]                   \n",
            "__________________________________________________________________________________________________\n",
            "concatenate_8 (Concatenate)     (None, 1, 40)        0           dense_29[0][0]                   \n",
            "                                                                 dense_30[0][0]                   \n",
            "__________________________________________________________________________________________________\n",
            "dense_31 (Dense)                (None, 1, 50)        2050        concatenate_8[0][0]              \n",
            "__________________________________________________________________________________________________\n",
            "dense_32 (Dense)                (None, 1, 1)         51          dense_31[0][0]                   \n",
            "==================================================================================================\n",
            "Total params: 35,712\n",
            "Trainable params: 35,712\n",
            "Non-trainable params: 0\n",
            "__________________________________________________________________________________________________\n",
            "None\n",
            "Epoch 1/100\n",
            "40000/40000 [==============================] - 3s 83us/step - loss: 0.0721\n",
            "Epoch 2/100\n",
            "40000/40000 [==============================] - 0s 10us/step - loss: 0.0636\n",
            "Epoch 3/100\n",
            "40000/40000 [==============================] - 0s 10us/step - loss: 0.0630\n",
            "Epoch 4/100\n",
            "40000/40000 [==============================] - 0s 10us/step - loss: 0.0602\n",
            "Epoch 5/100\n",
            "40000/40000 [==============================] - 0s 10us/step - loss: 0.0490\n",
            "Epoch 6/100\n",
            "40000/40000 [==============================] - 0s 10us/step - loss: 0.0380\n",
            "Epoch 7/100\n",
            "40000/40000 [==============================] - 0s 10us/step - loss: 0.0324\n",
            "Epoch 8/100\n",
            "40000/40000 [==============================] - 0s 10us/step - loss: 0.0277\n",
            "Epoch 9/100\n",
            "40000/40000 [==============================] - 0s 10us/step - loss: 0.0249\n",
            "Epoch 10/100\n",
            "40000/40000 [==============================] - 0s 10us/step - loss: 0.0231\n",
            "Epoch 11/100\n",
            "40000/40000 [==============================] - 0s 10us/step - loss: 0.0215\n",
            "Epoch 12/100\n",
            "40000/40000 [==============================] - 0s 10us/step - loss: 0.0207\n",
            "Epoch 13/100\n",
            "40000/40000 [==============================] - 0s 10us/step - loss: 0.0201\n",
            "Epoch 14/100\n",
            "40000/40000 [==============================] - 0s 10us/step - loss: 0.0195\n",
            "Epoch 15/100\n",
            "40000/40000 [==============================] - 0s 10us/step - loss: 0.0191\n",
            "Epoch 16/100\n",
            "40000/40000 [==============================] - 0s 10us/step - loss: 0.0188\n",
            "Epoch 17/100\n",
            "40000/40000 [==============================] - 0s 10us/step - loss: 0.0180\n",
            "Epoch 18/100\n",
            "40000/40000 [==============================] - 0s 10us/step - loss: 0.0176\n",
            "Epoch 19/100\n",
            "40000/40000 [==============================] - 0s 10us/step - loss: 0.0171\n",
            "Epoch 20/100\n",
            "40000/40000 [==============================] - 0s 10us/step - loss: 0.0167\n",
            "Epoch 21/100\n",
            "40000/40000 [==============================] - 0s 10us/step - loss: 0.0165\n",
            "Epoch 22/100\n",
            "40000/40000 [==============================] - 0s 10us/step - loss: 0.0159\n",
            "Epoch 23/100\n",
            "40000/40000 [==============================] - 0s 10us/step - loss: 0.0155\n",
            "Epoch 24/100\n",
            "40000/40000 [==============================] - 0s 10us/step - loss: 0.0152\n",
            "Epoch 25/100\n",
            "40000/40000 [==============================] - 0s 10us/step - loss: 0.0151\n",
            "Epoch 26/100\n",
            "40000/40000 [==============================] - 0s 11us/step - loss: 0.0150\n",
            "Epoch 27/100\n",
            "40000/40000 [==============================] - 0s 10us/step - loss: 0.0147\n",
            "Epoch 28/100\n",
            "40000/40000 [==============================] - 0s 10us/step - loss: 0.0145\n",
            "Epoch 29/100\n",
            "40000/40000 [==============================] - 0s 10us/step - loss: 0.0141\n",
            "Epoch 30/100\n",
            "40000/40000 [==============================] - 0s 10us/step - loss: 0.0140\n",
            "Epoch 31/100\n",
            "40000/40000 [==============================] - 0s 10us/step - loss: 0.0139\n",
            "Epoch 32/100\n",
            "40000/40000 [==============================] - 0s 10us/step - loss: 0.0138\n",
            "Epoch 33/100\n",
            "40000/40000 [==============================] - 0s 10us/step - loss: 0.0140\n",
            "Epoch 34/100\n",
            "40000/40000 [==============================] - 0s 10us/step - loss: 0.0138\n",
            "Epoch 35/100\n",
            "40000/40000 [==============================] - 0s 10us/step - loss: 0.0141\n",
            "Epoch 36/100\n",
            "40000/40000 [==============================] - 0s 10us/step - loss: 0.0137\n",
            "Epoch 37/100\n",
            "40000/40000 [==============================] - 0s 10us/step - loss: 0.0136\n",
            "Epoch 38/100\n",
            "40000/40000 [==============================] - 0s 10us/step - loss: 0.0137\n",
            "Epoch 39/100\n",
            "40000/40000 [==============================] - 0s 10us/step - loss: 0.0135\n",
            "Epoch 40/100\n",
            "40000/40000 [==============================] - 0s 10us/step - loss: 0.0135\n",
            "Epoch 41/100\n",
            "40000/40000 [==============================] - 0s 10us/step - loss: 0.0134\n",
            "Epoch 42/100\n",
            "40000/40000 [==============================] - 0s 10us/step - loss: 0.0135\n",
            "Epoch 43/100\n",
            "40000/40000 [==============================] - 0s 10us/step - loss: 0.0133\n",
            "Epoch 44/100\n",
            "40000/40000 [==============================] - 0s 10us/step - loss: 0.0134\n",
            "Epoch 45/100\n",
            "40000/40000 [==============================] - 0s 10us/step - loss: 0.0137\n",
            "Epoch 46/100\n",
            "40000/40000 [==============================] - 0s 11us/step - loss: 0.0138\n",
            "Epoch 47/100\n",
            "40000/40000 [==============================] - 0s 10us/step - loss: 0.0137\n",
            "Epoch 48/100\n",
            "40000/40000 [==============================] - 0s 10us/step - loss: 0.0137\n",
            "Epoch 49/100\n",
            "40000/40000 [==============================] - 0s 10us/step - loss: 0.0134\n",
            "Epoch 50/100\n",
            "40000/40000 [==============================] - 0s 10us/step - loss: 0.0132\n",
            "Epoch 51/100\n",
            "40000/40000 [==============================] - 0s 10us/step - loss: 0.0131\n",
            "Epoch 52/100\n",
            "40000/40000 [==============================] - 0s 10us/step - loss: 0.0131\n",
            "Epoch 53/100\n",
            "40000/40000 [==============================] - 0s 10us/step - loss: 0.0130\n",
            "Epoch 54/100\n",
            "40000/40000 [==============================] - 0s 10us/step - loss: 0.0131\n",
            "Epoch 55/100\n",
            "40000/40000 [==============================] - 0s 10us/step - loss: 0.0132\n",
            "Epoch 56/100\n",
            "40000/40000 [==============================] - 0s 10us/step - loss: 0.0132\n",
            "Epoch 57/100\n",
            "40000/40000 [==============================] - 0s 10us/step - loss: 0.0132\n",
            "Epoch 58/100\n",
            "40000/40000 [==============================] - 0s 10us/step - loss: 0.0129\n",
            "Epoch 59/100\n",
            "40000/40000 [==============================] - 0s 10us/step - loss: 0.0131\n",
            "Epoch 60/100\n",
            "40000/40000 [==============================] - 0s 10us/step - loss: 0.0130\n",
            "Epoch 61/100\n",
            "40000/40000 [==============================] - 0s 10us/step - loss: 0.0131\n",
            "Epoch 62/100\n",
            "40000/40000 [==============================] - 0s 10us/step - loss: 0.0131\n",
            "Epoch 63/100\n",
            "40000/40000 [==============================] - 0s 10us/step - loss: 0.0129\n",
            "Epoch 64/100\n",
            "40000/40000 [==============================] - 0s 10us/step - loss: 0.0133\n",
            "Epoch 65/100\n",
            "40000/40000 [==============================] - 0s 10us/step - loss: 0.0131\n",
            "Epoch 66/100\n",
            "40000/40000 [==============================] - 0s 10us/step - loss: 0.0128\n",
            "Epoch 67/100\n",
            "40000/40000 [==============================] - 0s 11us/step - loss: 0.0131\n",
            "Epoch 68/100\n",
            "40000/40000 [==============================] - 0s 11us/step - loss: 0.0132\n",
            "Epoch 69/100\n",
            "40000/40000 [==============================] - 0s 11us/step - loss: 0.0129\n",
            "Epoch 70/100\n",
            "40000/40000 [==============================] - 0s 11us/step - loss: 0.0128\n",
            "Epoch 71/100\n",
            "40000/40000 [==============================] - 0s 12us/step - loss: 0.0128\n",
            "Epoch 72/100\n",
            "40000/40000 [==============================] - 0s 11us/step - loss: 0.0127\n",
            "Epoch 73/100\n",
            "40000/40000 [==============================] - 0s 11us/step - loss: 0.0128\n",
            "Epoch 74/100\n",
            "40000/40000 [==============================] - 0s 11us/step - loss: 0.0127\n",
            "Epoch 75/100\n",
            "40000/40000 [==============================] - 0s 11us/step - loss: 0.0128\n",
            "Epoch 76/100\n",
            "40000/40000 [==============================] - 0s 11us/step - loss: 0.0129\n",
            "Epoch 77/100\n",
            "40000/40000 [==============================] - 0s 12us/step - loss: 0.0127\n",
            "Epoch 78/100\n",
            "40000/40000 [==============================] - 0s 11us/step - loss: 0.0126\n",
            "Epoch 79/100\n",
            "40000/40000 [==============================] - 0s 11us/step - loss: 0.0126\n",
            "Epoch 80/100\n",
            "40000/40000 [==============================] - 0s 11us/step - loss: 0.0128\n",
            "Epoch 81/100\n",
            "40000/40000 [==============================] - 0s 11us/step - loss: 0.0130\n",
            "Epoch 82/100\n",
            "40000/40000 [==============================] - 0s 11us/step - loss: 0.0131\n",
            "Epoch 83/100\n",
            "40000/40000 [==============================] - 0s 11us/step - loss: 0.0127\n",
            "Epoch 84/100\n",
            "40000/40000 [==============================] - 0s 12us/step - loss: 0.0125\n",
            "Epoch 85/100\n",
            "40000/40000 [==============================] - 0s 11us/step - loss: 0.0127\n",
            "Epoch 86/100\n",
            "40000/40000 [==============================] - 0s 11us/step - loss: 0.0128\n",
            "Epoch 87/100\n",
            "40000/40000 [==============================] - 0s 11us/step - loss: 0.0130\n",
            "Epoch 88/100\n",
            "40000/40000 [==============================] - 0s 11us/step - loss: 0.0128\n",
            "Epoch 89/100\n",
            "40000/40000 [==============================] - 0s 11us/step - loss: 0.0127\n",
            "Epoch 90/100\n",
            "40000/40000 [==============================] - 0s 10us/step - loss: 0.0126\n",
            "Epoch 91/100\n",
            "40000/40000 [==============================] - 0s 10us/step - loss: 0.0130\n",
            "Epoch 92/100\n",
            "40000/40000 [==============================] - 0s 10us/step - loss: 0.0129\n",
            "Epoch 93/100\n",
            "40000/40000 [==============================] - 0s 10us/step - loss: 0.0127\n",
            "Epoch 94/100\n",
            "40000/40000 [==============================] - 0s 10us/step - loss: 0.0125\n",
            "Epoch 95/100\n",
            "40000/40000 [==============================] - 0s 10us/step - loss: 0.0127\n",
            "Epoch 96/100\n",
            "40000/40000 [==============================] - 0s 10us/step - loss: 0.0131\n",
            "Epoch 97/100\n",
            "40000/40000 [==============================] - 0s 10us/step - loss: 0.0127\n",
            "Epoch 98/100\n",
            "40000/40000 [==============================] - 0s 10us/step - loss: 0.0127\n",
            "Epoch 99/100\n",
            "40000/40000 [==============================] - 0s 10us/step - loss: 0.0127\n",
            "Epoch 100/100\n",
            "40000/40000 [==============================] - 0s 10us/step - loss: 0.0126\n",
            "RMSE  26.389142773739923\n",
            "(40000, 39)\n",
            "------------- CROSS VALIDATION  2 ---------\n",
            "**********LTSME***********\n",
            "__________________________________________________________________________________________________\n",
            "Layer (type)                    Output Shape         Param #     Connected to                     \n",
            "==================================================================================================\n",
            "input_17 (InputLayer)           (None, 1, 8)         0                                            \n",
            "__________________________________________________________________________________________________\n",
            "lstm_17 (LSTM)                  (None, 1, 50)        11800       input_17[0][0]                   \n",
            "__________________________________________________________________________________________________\n",
            "lstm_18 (LSTM)                  (None, 1, 50)        20200       lstm_17[0][0]                    \n",
            "__________________________________________________________________________________________________\n",
            "input_18 (InputLayer)           (None, 1, 39)        0                                            \n",
            "__________________________________________________________________________________________________\n",
            "dense_33 (Dense)                (None, 1, 1)         51          lstm_18[0][0]                    \n",
            "__________________________________________________________________________________________________\n",
            "dense_34 (Dense)                (None, 1, 39)        1560        input_18[0][0]                   \n",
            "__________________________________________________________________________________________________\n",
            "concatenate_9 (Concatenate)     (None, 1, 40)        0           dense_33[0][0]                   \n",
            "                                                                 dense_34[0][0]                   \n",
            "__________________________________________________________________________________________________\n",
            "dense_35 (Dense)                (None, 1, 50)        2050        concatenate_9[0][0]              \n",
            "__________________________________________________________________________________________________\n",
            "dense_36 (Dense)                (None, 1, 1)         51          dense_35[0][0]                   \n",
            "==================================================================================================\n",
            "Total params: 35,712\n",
            "Trainable params: 35,712\n",
            "Non-trainable params: 0\n",
            "__________________________________________________________________________________________________\n",
            "None\n",
            "Epoch 1/100\n",
            "40000/40000 [==============================] - 4s 91us/step - loss: 0.0889\n",
            "Epoch 2/100\n",
            "40000/40000 [==============================] - 0s 11us/step - loss: 0.0648\n",
            "Epoch 3/100\n",
            "40000/40000 [==============================] - 0s 11us/step - loss: 0.0641\n",
            "Epoch 4/100\n",
            "40000/40000 [==============================] - 0s 11us/step - loss: 0.0641\n",
            "Epoch 5/100\n",
            "40000/40000 [==============================] - 0s 11us/step - loss: 0.0641\n",
            "Epoch 6/100\n",
            "40000/40000 [==============================] - 0s 12us/step - loss: 0.0640\n",
            "Epoch 7/100\n",
            "40000/40000 [==============================] - 0s 11us/step - loss: 0.0618\n",
            "Epoch 8/100\n",
            "40000/40000 [==============================] - 0s 11us/step - loss: 0.0505\n",
            "Epoch 9/100\n",
            "40000/40000 [==============================] - 0s 12us/step - loss: 0.0393\n",
            "Epoch 10/100\n",
            "40000/40000 [==============================] - 0s 11us/step - loss: 0.0319\n",
            "Epoch 11/100\n",
            "40000/40000 [==============================] - 0s 11us/step - loss: 0.0264\n",
            "Epoch 12/100\n",
            "40000/40000 [==============================] - 0s 11us/step - loss: 0.0240\n",
            "Epoch 13/100\n",
            "40000/40000 [==============================] - 0s 11us/step - loss: 0.0224\n",
            "Epoch 14/100\n",
            "40000/40000 [==============================] - 0s 11us/step - loss: 0.0211\n",
            "Epoch 15/100\n",
            "40000/40000 [==============================] - 0s 11us/step - loss: 0.0202\n",
            "Epoch 16/100\n",
            "40000/40000 [==============================] - 0s 11us/step - loss: 0.0193\n",
            "Epoch 17/100\n",
            "40000/40000 [==============================] - 0s 11us/step - loss: 0.0187\n",
            "Epoch 18/100\n",
            "40000/40000 [==============================] - 0s 11us/step - loss: 0.0178\n",
            "Epoch 19/100\n",
            "40000/40000 [==============================] - 0s 11us/step - loss: 0.0169\n",
            "Epoch 20/100\n",
            "40000/40000 [==============================] - 0s 11us/step - loss: 0.0161\n",
            "Epoch 21/100\n",
            "40000/40000 [==============================] - 0s 11us/step - loss: 0.0154\n",
            "Epoch 22/100\n",
            "40000/40000 [==============================] - 0s 11us/step - loss: 0.0150\n",
            "Epoch 23/100\n",
            "40000/40000 [==============================] - 0s 11us/step - loss: 0.0148\n",
            "Epoch 24/100\n",
            "40000/40000 [==============================] - 0s 10us/step - loss: 0.0147\n",
            "Epoch 25/100\n",
            "12000/40000 [========>.....................] - ETA: 0s - loss: 0.0146"
          ],
          "name": "stdout"
        },
        {
          "output_type": "error",
          "ename": "KeyboardInterrupt",
          "evalue": "ignored",
          "traceback": [
            "\u001b[0;31m---------------------------------------------------------------------------\u001b[0m",
            "\u001b[0;31mKeyboardInterrupt\u001b[0m                         Traceback (most recent call last)",
            "\u001b[0;32m<ipython-input-34-9593c1394b9f>\u001b[0m in \u001b[0;36m<module>\u001b[0;34m()\u001b[0m\n\u001b[1;32m     18\u001b[0m     \u001b[0myTrain\u001b[0m \u001b[0;34m=\u001b[0m \u001b[0mnp\u001b[0m\u001b[0;34m.\u001b[0m\u001b[0mreshape\u001b[0m\u001b[0;34m(\u001b[0m\u001b[0myTrain\u001b[0m\u001b[0;34m,\u001b[0m\u001b[0;34m(\u001b[0m\u001b[0myTrain\u001b[0m\u001b[0;34m.\u001b[0m\u001b[0mshape\u001b[0m\u001b[0;34m[\u001b[0m\u001b[0;36m0\u001b[0m\u001b[0;34m]\u001b[0m\u001b[0;34m,\u001b[0m\u001b[0;36m1\u001b[0m\u001b[0;34m,\u001b[0m\u001b[0myTrain\u001b[0m\u001b[0;34m.\u001b[0m\u001b[0mshape\u001b[0m\u001b[0;34m[\u001b[0m\u001b[0;36m1\u001b[0m\u001b[0;34m]\u001b[0m\u001b[0;34m)\u001b[0m\u001b[0;34m)\u001b[0m\u001b[0;34m\u001b[0m\u001b[0;34m\u001b[0m\u001b[0m\n\u001b[1;32m     19\u001b[0m \u001b[0;34m\u001b[0m\u001b[0m\n\u001b[0;32m---> 20\u001b[0;31m     \u001b[0mmodel\u001b[0m\u001b[0;34m.\u001b[0m\u001b[0mfit\u001b[0m\u001b[0;34m(\u001b[0m\u001b[0;34m[\u001b[0m\u001b[0mxTrain\u001b[0m\u001b[0;34m,\u001b[0m\u001b[0mauxTrain\u001b[0m\u001b[0;34m]\u001b[0m\u001b[0;34m,\u001b[0m \u001b[0myTrain\u001b[0m\u001b[0;34m,\u001b[0m \u001b[0mepochs\u001b[0m\u001b[0;34m=\u001b[0m\u001b[0;36m100\u001b[0m\u001b[0;34m,\u001b[0m \u001b[0mbatch_size\u001b[0m\u001b[0;34m=\u001b[0m\u001b[0;36m1000\u001b[0m\u001b[0;34m)\u001b[0m\u001b[0;34m\u001b[0m\u001b[0;34m\u001b[0m\u001b[0m\n\u001b[0m\u001b[1;32m     21\u001b[0m \u001b[0;34m\u001b[0m\u001b[0m\n\u001b[1;32m     22\u001b[0m     \u001b[0mxTest\u001b[0m \u001b[0;34m=\u001b[0m \u001b[0mnp\u001b[0m\u001b[0;34m.\u001b[0m\u001b[0mreshape\u001b[0m\u001b[0;34m(\u001b[0m\u001b[0mxTest\u001b[0m\u001b[0;34m,\u001b[0m\u001b[0;34m(\u001b[0m\u001b[0mxTest\u001b[0m\u001b[0;34m.\u001b[0m\u001b[0mshape\u001b[0m\u001b[0;34m[\u001b[0m\u001b[0;36m0\u001b[0m\u001b[0;34m]\u001b[0m\u001b[0;34m,\u001b[0m\u001b[0;36m1\u001b[0m\u001b[0;34m,\u001b[0m\u001b[0mxTest\u001b[0m\u001b[0;34m.\u001b[0m\u001b[0mshape\u001b[0m\u001b[0;34m[\u001b[0m\u001b[0;36m1\u001b[0m\u001b[0;34m]\u001b[0m\u001b[0;34m)\u001b[0m\u001b[0;34m)\u001b[0m\u001b[0;34m\u001b[0m\u001b[0;34m\u001b[0m\u001b[0m\n",
            "\u001b[0;32m/usr/local/lib/python3.6/dist-packages/keras/engine/training.py\u001b[0m in \u001b[0;36mfit\u001b[0;34m(self, x, y, batch_size, epochs, verbose, callbacks, validation_split, validation_data, shuffle, class_weight, sample_weight, initial_epoch, steps_per_epoch, validation_steps, **kwargs)\u001b[0m\n\u001b[1;32m   1037\u001b[0m                                         \u001b[0minitial_epoch\u001b[0m\u001b[0;34m=\u001b[0m\u001b[0minitial_epoch\u001b[0m\u001b[0;34m,\u001b[0m\u001b[0;34m\u001b[0m\u001b[0;34m\u001b[0m\u001b[0m\n\u001b[1;32m   1038\u001b[0m                                         \u001b[0msteps_per_epoch\u001b[0m\u001b[0;34m=\u001b[0m\u001b[0msteps_per_epoch\u001b[0m\u001b[0;34m,\u001b[0m\u001b[0;34m\u001b[0m\u001b[0;34m\u001b[0m\u001b[0m\n\u001b[0;32m-> 1039\u001b[0;31m                                         validation_steps=validation_steps)\n\u001b[0m\u001b[1;32m   1040\u001b[0m \u001b[0;34m\u001b[0m\u001b[0m\n\u001b[1;32m   1041\u001b[0m     def evaluate(self, x=None, y=None,\n",
            "\u001b[0;32m/usr/local/lib/python3.6/dist-packages/keras/engine/training_arrays.py\u001b[0m in \u001b[0;36mfit_loop\u001b[0;34m(model, f, ins, out_labels, batch_size, epochs, verbose, callbacks, val_f, val_ins, shuffle, callback_metrics, initial_epoch, steps_per_epoch, validation_steps)\u001b[0m\n\u001b[1;32m    197\u001b[0m                     \u001b[0mins_batch\u001b[0m\u001b[0;34m[\u001b[0m\u001b[0mi\u001b[0m\u001b[0;34m]\u001b[0m \u001b[0;34m=\u001b[0m \u001b[0mins_batch\u001b[0m\u001b[0;34m[\u001b[0m\u001b[0mi\u001b[0m\u001b[0;34m]\u001b[0m\u001b[0;34m.\u001b[0m\u001b[0mtoarray\u001b[0m\u001b[0;34m(\u001b[0m\u001b[0;34m)\u001b[0m\u001b[0;34m\u001b[0m\u001b[0;34m\u001b[0m\u001b[0m\n\u001b[1;32m    198\u001b[0m \u001b[0;34m\u001b[0m\u001b[0m\n\u001b[0;32m--> 199\u001b[0;31m                 \u001b[0mouts\u001b[0m \u001b[0;34m=\u001b[0m \u001b[0mf\u001b[0m\u001b[0;34m(\u001b[0m\u001b[0mins_batch\u001b[0m\u001b[0;34m)\u001b[0m\u001b[0;34m\u001b[0m\u001b[0;34m\u001b[0m\u001b[0m\n\u001b[0m\u001b[1;32m    200\u001b[0m                 \u001b[0mouts\u001b[0m \u001b[0;34m=\u001b[0m \u001b[0mto_list\u001b[0m\u001b[0;34m(\u001b[0m\u001b[0mouts\u001b[0m\u001b[0;34m)\u001b[0m\u001b[0;34m\u001b[0m\u001b[0;34m\u001b[0m\u001b[0m\n\u001b[1;32m    201\u001b[0m                 \u001b[0;32mfor\u001b[0m \u001b[0ml\u001b[0m\u001b[0;34m,\u001b[0m \u001b[0mo\u001b[0m \u001b[0;32min\u001b[0m \u001b[0mzip\u001b[0m\u001b[0;34m(\u001b[0m\u001b[0mout_labels\u001b[0m\u001b[0;34m,\u001b[0m \u001b[0mouts\u001b[0m\u001b[0;34m)\u001b[0m\u001b[0;34m:\u001b[0m\u001b[0;34m\u001b[0m\u001b[0;34m\u001b[0m\u001b[0m\n",
            "\u001b[0;32m/usr/local/lib/python3.6/dist-packages/keras/backend/tensorflow_backend.py\u001b[0m in \u001b[0;36m__call__\u001b[0;34m(self, inputs)\u001b[0m\n\u001b[1;32m   2713\u001b[0m                 \u001b[0;32mreturn\u001b[0m \u001b[0mself\u001b[0m\u001b[0;34m.\u001b[0m\u001b[0m_legacy_call\u001b[0m\u001b[0;34m(\u001b[0m\u001b[0minputs\u001b[0m\u001b[0;34m)\u001b[0m\u001b[0;34m\u001b[0m\u001b[0;34m\u001b[0m\u001b[0m\n\u001b[1;32m   2714\u001b[0m \u001b[0;34m\u001b[0m\u001b[0m\n\u001b[0;32m-> 2715\u001b[0;31m             \u001b[0;32mreturn\u001b[0m \u001b[0mself\u001b[0m\u001b[0;34m.\u001b[0m\u001b[0m_call\u001b[0m\u001b[0;34m(\u001b[0m\u001b[0minputs\u001b[0m\u001b[0;34m)\u001b[0m\u001b[0;34m\u001b[0m\u001b[0;34m\u001b[0m\u001b[0m\n\u001b[0m\u001b[1;32m   2716\u001b[0m         \u001b[0;32melse\u001b[0m\u001b[0;34m:\u001b[0m\u001b[0;34m\u001b[0m\u001b[0;34m\u001b[0m\u001b[0m\n\u001b[1;32m   2717\u001b[0m             \u001b[0;32mif\u001b[0m \u001b[0mpy_any\u001b[0m\u001b[0;34m(\u001b[0m\u001b[0mis_tensor\u001b[0m\u001b[0;34m(\u001b[0m\u001b[0mx\u001b[0m\u001b[0;34m)\u001b[0m \u001b[0;32mfor\u001b[0m \u001b[0mx\u001b[0m \u001b[0;32min\u001b[0m \u001b[0minputs\u001b[0m\u001b[0;34m)\u001b[0m\u001b[0;34m:\u001b[0m\u001b[0;34m\u001b[0m\u001b[0;34m\u001b[0m\u001b[0m\n",
            "\u001b[0;32m/usr/local/lib/python3.6/dist-packages/keras/backend/tensorflow_backend.py\u001b[0m in \u001b[0;36m_call\u001b[0;34m(self, inputs)\u001b[0m\n\u001b[1;32m   2673\u001b[0m             \u001b[0mfetched\u001b[0m \u001b[0;34m=\u001b[0m \u001b[0mself\u001b[0m\u001b[0;34m.\u001b[0m\u001b[0m_callable_fn\u001b[0m\u001b[0;34m(\u001b[0m\u001b[0;34m*\u001b[0m\u001b[0marray_vals\u001b[0m\u001b[0;34m,\u001b[0m \u001b[0mrun_metadata\u001b[0m\u001b[0;34m=\u001b[0m\u001b[0mself\u001b[0m\u001b[0;34m.\u001b[0m\u001b[0mrun_metadata\u001b[0m\u001b[0;34m)\u001b[0m\u001b[0;34m\u001b[0m\u001b[0;34m\u001b[0m\u001b[0m\n\u001b[1;32m   2674\u001b[0m         \u001b[0;32melse\u001b[0m\u001b[0;34m:\u001b[0m\u001b[0;34m\u001b[0m\u001b[0;34m\u001b[0m\u001b[0m\n\u001b[0;32m-> 2675\u001b[0;31m             \u001b[0mfetched\u001b[0m \u001b[0;34m=\u001b[0m \u001b[0mself\u001b[0m\u001b[0;34m.\u001b[0m\u001b[0m_callable_fn\u001b[0m\u001b[0;34m(\u001b[0m\u001b[0;34m*\u001b[0m\u001b[0marray_vals\u001b[0m\u001b[0;34m)\u001b[0m\u001b[0;34m\u001b[0m\u001b[0;34m\u001b[0m\u001b[0m\n\u001b[0m\u001b[1;32m   2676\u001b[0m         \u001b[0;32mreturn\u001b[0m \u001b[0mfetched\u001b[0m\u001b[0;34m[\u001b[0m\u001b[0;34m:\u001b[0m\u001b[0mlen\u001b[0m\u001b[0;34m(\u001b[0m\u001b[0mself\u001b[0m\u001b[0;34m.\u001b[0m\u001b[0moutputs\u001b[0m\u001b[0;34m)\u001b[0m\u001b[0;34m]\u001b[0m\u001b[0;34m\u001b[0m\u001b[0;34m\u001b[0m\u001b[0m\n\u001b[1;32m   2677\u001b[0m \u001b[0;34m\u001b[0m\u001b[0m\n",
            "\u001b[0;32m/usr/local/lib/python3.6/dist-packages/tensorflow/python/client/session.py\u001b[0m in \u001b[0;36m__call__\u001b[0;34m(self, *args, **kwargs)\u001b[0m\n\u001b[1;32m   1437\u001b[0m           ret = tf_session.TF_SessionRunCallable(\n\u001b[1;32m   1438\u001b[0m               \u001b[0mself\u001b[0m\u001b[0;34m.\u001b[0m\u001b[0m_session\u001b[0m\u001b[0;34m.\u001b[0m\u001b[0m_session\u001b[0m\u001b[0;34m,\u001b[0m \u001b[0mself\u001b[0m\u001b[0;34m.\u001b[0m\u001b[0m_handle\u001b[0m\u001b[0;34m,\u001b[0m \u001b[0margs\u001b[0m\u001b[0;34m,\u001b[0m \u001b[0mstatus\u001b[0m\u001b[0;34m,\u001b[0m\u001b[0;34m\u001b[0m\u001b[0;34m\u001b[0m\u001b[0m\n\u001b[0;32m-> 1439\u001b[0;31m               run_metadata_ptr)\n\u001b[0m\u001b[1;32m   1440\u001b[0m         \u001b[0;32mif\u001b[0m \u001b[0mrun_metadata\u001b[0m\u001b[0;34m:\u001b[0m\u001b[0;34m\u001b[0m\u001b[0;34m\u001b[0m\u001b[0m\n\u001b[1;32m   1441\u001b[0m           \u001b[0mproto_data\u001b[0m \u001b[0;34m=\u001b[0m \u001b[0mtf_session\u001b[0m\u001b[0;34m.\u001b[0m\u001b[0mTF_GetBuffer\u001b[0m\u001b[0;34m(\u001b[0m\u001b[0mrun_metadata_ptr\u001b[0m\u001b[0;34m)\u001b[0m\u001b[0;34m\u001b[0m\u001b[0;34m\u001b[0m\u001b[0m\n",
            "\u001b[0;31mKeyboardInterrupt\u001b[0m: "
          ]
        }
      ]
    },
    {
      "metadata": {
        "id": "fTTwxkdDaBtd",
        "colab_type": "code",
        "colab": {}
      },
      "cell_type": "code",
      "source": [
        "kFolds = KFold(n_splits=5)\n",
        "countCross = 1 \n",
        "for train, test in kFolds.split(fulldata):\n",
        "    xTrain = fulldata[train,0:8]\n",
        "    xTest= fulldata[test,0:8]\n",
        "    auxTrain = fulldata[train,8:47]\n",
        "    auxTest = fulldata[test,8:47] \n",
        "    yTrain = fulldata[train,47:48]\n",
        "    yTest = fulldata[test,47:48]\n",
        "    print(auxTrain.shape)\n",
        "    print(\"------------- CROSS VALIDATION \",countCross,\"---------\")\n",
        "    print(\"**********LTSM NN***********\")\n",
        "    model = lstm(xTrain,yTrain,auxTrain)\n",
        "    print(model.summary())\n",
        "    model.compile(loss='mae', optimizer='adam') \n",
        "    xTrain = np.reshape(xTrain,(xTrain.shape[0],1,xTrain.shape[1]))\n",
        "    auxTrain = np.reshape(auxTrain,(auxTrain.shape[0],1,auxTrain.shape[1]))\n",
        "    yTrain = np.reshape(yTrain,(yTrain.shape[0],1,yTrain.shape[1]))\n",
        "    \n",
        "    model.fit(xTrain, yTrain, epochs=10, batch_size=1000)\n",
        "    \n",
        "    xTest = np.reshape(xTest,(xTest.shape[0],1,xTest.shape[1]))\n",
        "    auxTest = np.reshape(auxTest,(auxTest.shape[0],1,auxTest.shape[1]))\n",
        "\n",
        "    yhat = model.predict(xTest)\n",
        "    \n",
        "    yhat = np.reshape(yhat,(xTest.shape[0],xTest.shape[1]))\n",
        "    predictTest = scaler.inverse_transform(yhat)\n",
        "    yTestI = scaler.inverse_transform(yTest)\n",
        "    rmseTest = sqrt(mean_squared_error(yTestI, predictTest))\n",
        "    print(\"RMSE \", rmseTest)\n",
        "    countCross+=1"
      ],
      "execution_count": 0,
      "outputs": []
    },
    {
      "metadata": {
        "id": "FXJK8WwbtWSS",
        "colab_type": "code",
        "colab": {}
      },
      "cell_type": "code",
      "source": [
        "kFolds = KFold(n_splits=5)\n",
        "countCross = 1 \n",
        "for train, test in kFolds.split(fulldata):\n",
        "    xTrain = fulldata[train,0:8]\n",
        "    xTest= fulldata[test,0:8]\n",
        "    auxTrain = fulldata[train,8:47]\n",
        "    auxTest = fulldata[test,8:47] \n",
        "    yTrain = fulldata[train,47:48]\n",
        "    yTest = fulldata[test,47:48]\n",
        "    print(auxTrain.shape)\n",
        "    print(\"------------- CROSS VALIDATION \",countCross,\"---------\")\n",
        "    print(\"**********LTSMED***********\")\n",
        "    model = lstmed(xTrain,yTrain,auxTrain)\n",
        "    print(model.summary())\n",
        "    model.compile(loss='mae', optimizer='adam') \n",
        "    xTrain = np.reshape(xTrain,(xTrain.shape[0],1,xTrain.shape[1]))\n",
        "    auxTrain = np.reshape(auxTrain,(auxTrain.shape[0],1,auxTrain.shape[1]))\n",
        "    yTrain = np.reshape(yTrain,(yTrain.shape[0],1,yTrain.shape[1]))\n",
        "    \n",
        "    model.fit(xTrain, yTrain, epochs=100, batch_size=10)\n",
        "    \n",
        "    xTest = np.reshape(xTest,(xTest.shape[0],1,xTest.shape[1]))\n",
        "    auxTest = np.reshape(auxTest,(auxTest.shape[0],1,auxTest.shape[1]))\n",
        "    \n",
        "    yhat = model.predict([xTest])\n",
        "    \n",
        "    yhat = np.reshape(yhat,(xTest.shape[0],xTest.shape[1]))\n",
        "    predictTest = scaler.inverse_transform(yhat)\n",
        "    yTestI = scaler.inverse_transform(yTest)\n",
        "    rmseTest = sqrt(mean_squared_error(yTestI, predictTest))\n",
        "    print(\"RMSE \", rmseTest)\n",
        "    countCross+=1"
      ],
      "execution_count": 0,
      "outputs": []
    },
    {
      "metadata": {
        "id": "JGY3YcnIR660",
        "colab_type": "code",
        "outputId": "da45c6b2-4aed-4857-e273-c5ed8e8b6d05",
        "colab": {
          "base_uri": "https://localhost:8080/",
          "height": 397
        }
      },
      "cell_type": "code",
      "source": [
        "kFolds = KFold(n_splits=5)\n",
        "countCross = 1 \n",
        "for train, test in kFolds.split(fulldata):\n",
        "    xTrain = fulldata[train,0:8]\n",
        "    xTest= fulldata[test,0:8]\n",
        "    auxTrain = fulldata[train,8:47]\n",
        "    auxTest = fulldata[test,8:47] \n",
        "    yTrain = fulldata[train,47:48]\n",
        "    yTest = fulldata[test,47:48]\n",
        "    prediction = randomForest(xTrain,yTrain,xTest)\n",
        "    print(\"------------- CROSS VALIDATION \",countCross,\"---------\")\n",
        "    print(\"**********Random Forest***********\")\n",
        "    prediction = np.reshape(prediction,(-1, 1))\n",
        "    predictTest = scaler.inverse_transform(prediction)\n",
        "    yTestI = scaler.inverse_transform(yTest)\n",
        "    rmseTest = sqrt(mean_squared_error(yTestI, predictTest))\n",
        "    print(\"RMSE \", rmseTest)"
      ],
      "execution_count": 33,
      "outputs": [
        {
          "output_type": "stream",
          "text": [
            "/usr/local/lib/python3.6/dist-packages/ipykernel_launcher.py:63: DataConversionWarning: A column-vector y was passed when a 1d array was expected. Please change the shape of y to (n_samples,), for example using ravel().\n"
          ],
          "name": "stderr"
        },
        {
          "output_type": "stream",
          "text": [
            "------------- CROSS VALIDATION  1 ---------\n",
            "**********Random Forest***********\n",
            "RMSE  26.863240132366634\n"
          ],
          "name": "stdout"
        },
        {
          "output_type": "stream",
          "text": [
            "/usr/local/lib/python3.6/dist-packages/ipykernel_launcher.py:63: DataConversionWarning: A column-vector y was passed when a 1d array was expected. Please change the shape of y to (n_samples,), for example using ravel().\n"
          ],
          "name": "stderr"
        },
        {
          "output_type": "stream",
          "text": [
            "------------- CROSS VALIDATION  1 ---------\n",
            "**********Random Forest***********\n",
            "RMSE  25.313278031021664\n"
          ],
          "name": "stdout"
        },
        {
          "output_type": "stream",
          "text": [
            "/usr/local/lib/python3.6/dist-packages/ipykernel_launcher.py:63: DataConversionWarning: A column-vector y was passed when a 1d array was expected. Please change the shape of y to (n_samples,), for example using ravel().\n"
          ],
          "name": "stderr"
        },
        {
          "output_type": "stream",
          "text": [
            "------------- CROSS VALIDATION  1 ---------\n",
            "**********Random Forest***********\n",
            "RMSE  27.634283180376137\n"
          ],
          "name": "stdout"
        },
        {
          "output_type": "stream",
          "text": [
            "/usr/local/lib/python3.6/dist-packages/ipykernel_launcher.py:63: DataConversionWarning: A column-vector y was passed when a 1d array was expected. Please change the shape of y to (n_samples,), for example using ravel().\n"
          ],
          "name": "stderr"
        },
        {
          "output_type": "stream",
          "text": [
            "------------- CROSS VALIDATION  1 ---------\n",
            "**********Random Forest***********\n",
            "RMSE  21.573255586555174\n"
          ],
          "name": "stdout"
        },
        {
          "output_type": "stream",
          "text": [
            "/usr/local/lib/python3.6/dist-packages/ipykernel_launcher.py:63: DataConversionWarning: A column-vector y was passed when a 1d array was expected. Please change the shape of y to (n_samples,), for example using ravel().\n"
          ],
          "name": "stderr"
        },
        {
          "output_type": "stream",
          "text": [
            "------------- CROSS VALIDATION  1 ---------\n",
            "**********Random Forest***********\n",
            "RMSE  20.481059177876855\n"
          ],
          "name": "stdout"
        }
      ]
    }
  ]
}